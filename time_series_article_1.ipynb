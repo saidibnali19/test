{
 "cells": [
  {
   "cell_type": "code",
   "execution_count": 2,
   "id": "22ce823f",
   "metadata": {},
   "outputs": [],
   "source": [
    "import pandas as pd\n",
    "import seaborn as sns\n",
    "import matplotlib.pyplot as plt"
   ]
  },
  {
   "cell_type": "code",
   "execution_count": 4,
   "id": "309ec4d2",
   "metadata": {},
   "outputs": [],
   "source": [
    "data = pd.read_csv('data/SafaricomHistoricalData.csv',parse_dates=['Date'], index_col='Date',date_format=\"mixed\")"
   ]
  },
  {
   "cell_type": "code",
   "execution_count": 6,
   "id": "a3d7e59e",
   "metadata": {},
   "outputs": [],
   "source": [
    "data.columns = data.columns.str.replace(\" \", \"_\").str.lower()"
   ]
  },
  {
   "cell_type": "code",
   "execution_count": 7,
   "id": "4f70e148",
   "metadata": {},
   "outputs": [
    {
     "data": {
      "text/html": [
       "<div>\n",
       "<style scoped>\n",
       "    .dataframe tbody tr th:only-of-type {\n",
       "        vertical-align: middle;\n",
       "    }\n",
       "\n",
       "    .dataframe tbody tr th {\n",
       "        vertical-align: top;\n",
       "    }\n",
       "\n",
       "    .dataframe thead th {\n",
       "        text-align: right;\n",
       "    }\n",
       "</style>\n",
       "<table border=\"1\" class=\"dataframe\">\n",
       "  <thead>\n",
       "    <tr style=\"text-align: right;\">\n",
       "      <th></th>\n",
       "      <th>open</th>\n",
       "      <th>high</th>\n",
       "      <th>low</th>\n",
       "      <th>close</th>\n",
       "      <th>volume</th>\n",
       "    </tr>\n",
       "    <tr>\n",
       "      <th>Date</th>\n",
       "      <th></th>\n",
       "      <th></th>\n",
       "      <th></th>\n",
       "      <th></th>\n",
       "      <th></th>\n",
       "    </tr>\n",
       "  </thead>\n",
       "  <tbody>\n",
       "    <tr>\n",
       "      <th>2023-06-23</th>\n",
       "      <td>17.75</td>\n",
       "      <td>17.8</td>\n",
       "      <td>17.40</td>\n",
       "      <td>17.50</td>\n",
       "      <td>9481100</td>\n",
       "    </tr>\n",
       "    <tr>\n",
       "      <th>2023-06-22</th>\n",
       "      <td>17.00</td>\n",
       "      <td>17.8</td>\n",
       "      <td>17.00</td>\n",
       "      <td>17.45</td>\n",
       "      <td>4990500</td>\n",
       "    </tr>\n",
       "    <tr>\n",
       "      <th>2023-06-21</th>\n",
       "      <td>16.40</td>\n",
       "      <td>17.0</td>\n",
       "      <td>16.40</td>\n",
       "      <td>16.80</td>\n",
       "      <td>2504300</td>\n",
       "    </tr>\n",
       "    <tr>\n",
       "      <th>2023-06-20</th>\n",
       "      <td>16.10</td>\n",
       "      <td>16.5</td>\n",
       "      <td>15.90</td>\n",
       "      <td>16.25</td>\n",
       "      <td>1425100</td>\n",
       "    </tr>\n",
       "    <tr>\n",
       "      <th>2023-06-19</th>\n",
       "      <td>15.50</td>\n",
       "      <td>16.3</td>\n",
       "      <td>15.45</td>\n",
       "      <td>16.05</td>\n",
       "      <td>477200</td>\n",
       "    </tr>\n",
       "  </tbody>\n",
       "</table>\n",
       "</div>"
      ],
      "text/plain": [
       "             open  high    low  close   volume\n",
       "Date                                          \n",
       "2023-06-23  17.75  17.8  17.40  17.50  9481100\n",
       "2023-06-22  17.00  17.8  17.00  17.45  4990500\n",
       "2023-06-21  16.40  17.0  16.40  16.80  2504300\n",
       "2023-06-20  16.10  16.5  15.90  16.25  1425100\n",
       "2023-06-19  15.50  16.3  15.45  16.05   477200"
      ]
     },
     "execution_count": 7,
     "metadata": {},
     "output_type": "execute_result"
    }
   ],
   "source": [
    "data.head()"
   ]
  },
  {
   "cell_type": "code",
   "execution_count": 9,
   "id": "3799022b",
   "metadata": {},
   "outputs": [],
   "source": [
    "data=data[data.index <= \"2021-12-31\"]"
   ]
  },
  {
   "cell_type": "code",
   "execution_count": 10,
   "id": "17faa540",
   "metadata": {},
   "outputs": [
    {
     "data": {
      "text/html": [
       "<div>\n",
       "<style scoped>\n",
       "    .dataframe tbody tr th:only-of-type {\n",
       "        vertical-align: middle;\n",
       "    }\n",
       "\n",
       "    .dataframe tbody tr th {\n",
       "        vertical-align: top;\n",
       "    }\n",
       "\n",
       "    .dataframe thead th {\n",
       "        text-align: right;\n",
       "    }\n",
       "</style>\n",
       "<table border=\"1\" class=\"dataframe\">\n",
       "  <thead>\n",
       "    <tr style=\"text-align: right;\">\n",
       "      <th></th>\n",
       "      <th>open</th>\n",
       "      <th>high</th>\n",
       "      <th>low</th>\n",
       "      <th>close</th>\n",
       "      <th>volume</th>\n",
       "    </tr>\n",
       "    <tr>\n",
       "      <th>Date</th>\n",
       "      <th></th>\n",
       "      <th></th>\n",
       "      <th></th>\n",
       "      <th></th>\n",
       "      <th></th>\n",
       "    </tr>\n",
       "  </thead>\n",
       "  <tbody>\n",
       "    <tr>\n",
       "      <th>2021-12-31</th>\n",
       "      <td>37.15</td>\n",
       "      <td>38.00</td>\n",
       "      <td>37.15</td>\n",
       "      <td>37.95</td>\n",
       "      <td>6797900</td>\n",
       "    </tr>\n",
       "    <tr>\n",
       "      <th>2021-12-30</th>\n",
       "      <td>38.30</td>\n",
       "      <td>38.30</td>\n",
       "      <td>37.10</td>\n",
       "      <td>37.65</td>\n",
       "      <td>1352500</td>\n",
       "    </tr>\n",
       "    <tr>\n",
       "      <th>2021-12-29</th>\n",
       "      <td>39.55</td>\n",
       "      <td>39.55</td>\n",
       "      <td>38.05</td>\n",
       "      <td>38.75</td>\n",
       "      <td>330800</td>\n",
       "    </tr>\n",
       "    <tr>\n",
       "      <th>2021-12-28</th>\n",
       "      <td>40.10</td>\n",
       "      <td>40.10</td>\n",
       "      <td>38.00</td>\n",
       "      <td>39.35</td>\n",
       "      <td>1047800</td>\n",
       "    </tr>\n",
       "    <tr>\n",
       "      <th>2021-12-24</th>\n",
       "      <td>39.55</td>\n",
       "      <td>40.10</td>\n",
       "      <td>39.55</td>\n",
       "      <td>40.00</td>\n",
       "      <td>4242200</td>\n",
       "    </tr>\n",
       "  </tbody>\n",
       "</table>\n",
       "</div>"
      ],
      "text/plain": [
       "             open   high    low  close   volume\n",
       "Date                                           \n",
       "2021-12-31  37.15  38.00  37.15  37.95  6797900\n",
       "2021-12-30  38.30  38.30  37.10  37.65  1352500\n",
       "2021-12-29  39.55  39.55  38.05  38.75   330800\n",
       "2021-12-28  40.10  40.10  38.00  39.35  1047800\n",
       "2021-12-24  39.55  40.10  39.55  40.00  4242200"
      ]
     },
     "execution_count": 10,
     "metadata": {},
     "output_type": "execute_result"
    }
   ],
   "source": [
    "data.head()"
   ]
  },
  {
   "cell_type": "code",
   "execution_count": 11,
   "id": "c66ff510",
   "metadata": {},
   "outputs": [
    {
     "data": {
      "image/png": "[encoded data removed]",
      "text/plain": [
       "<Figure size 640x480 with 1 Axes>"
      ]
     },
     "metadata": {},
     "output_type": "display_data"
    }
   ],
   "source": [
    "sns.lineplot(data=data, x=data.index, y='close')\n",
    "plt.title('Safaricom Stock Closing Prices (2008–2021)')\n",
    "plt.xlabel('Year')\n",
    "plt.ylabel('Price (KES)')\n",
    "plt.show()"
   ]
  }
 ],
 "metadata": {
  "kernelspec": {
   "display_name": "venv",
   "language": "python",
   "name": "python3"
  },
  "language_info": {
   "codemirror_mode": {
    "name": "ipython",
    "version": 3
   },
   "file_extension": ".py",
   "mimetype": "text/x-python",
   "name": "python",
   "nbconvert_exporter": "python",
   "pygments_lexer": "ipython3",
   "version": "3.13.1"
  }
 },
 "nbformat": 4,
 "nbformat_minor": 5
}
